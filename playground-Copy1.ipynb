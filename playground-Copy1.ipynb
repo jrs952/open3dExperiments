{
 "cells": [
  {
   "cell_type": "code",
   "execution_count": 1,
   "id": "3d69af93-a656-48a4-989c-98d28bd8e9b9",
   "metadata": {
    "tags": []
   },
   "outputs": [
    {
     "name": "stdout",
     "output_type": "stream",
     "text": [
      "Jupyter environment detected. Enabling Open3D WebVisualizer.\n",
      "[Open3D INFO] WebRTC GUI backend enabled.\n",
      "[Open3D INFO] WebRTCWindowSystem: HTTP handshake server disabled.\n"
     ]
    }
   ],
   "source": [
    "import open3d as o3d\n",
    "import numpy as np \n",
    "import pandas as pd\n",
    "import trimesh\n",
    "import matplotlib.pyplot as plt\n",
    "from  pye57 import E57\n",
    "from pyntcloud import PyntCloud"
   ]
  },
  {
   "cell_type": "code",
   "execution_count": 3,
   "id": "6a7764c2-3692-42c7-958f-a93f609792e7",
   "metadata": {
    "tags": []
   },
   "outputs": [
    {
     "name": "stdout",
     "output_type": "stream",
     "text": [
      "PointCloud with 4562677 points.\n",
      "[[ 0.55695656 -0.33749982  0.0069483 ]\n",
      " [ 0.55747682 -0.33654353  0.00691749]\n",
      " [ 0.55755344 -0.33531978  0.00774316]\n",
      " ...\n",
      " [ 0.07412872 -0.00658993  2.5882676 ]\n",
      " [ 0.07422355 -0.00646523  2.58826377]\n",
      " [ 0.07431816 -0.00634036  2.58825981]]\n"
     ]
    }
   ],
   "source": [
    "e57 = E57('office.e57')\n",
    "\n",
    "# get point cloud\n",
    "data = e57.read_scan(0, colors=True)    \n",
    "\n",
    "# Extract point coordinates, colors, and normals\n",
    "xyz = np.column_stack((data['cartesianX'], data['cartesianY'], data['cartesianZ']))\n",
    "rgb = np.column_stack((data['colorRed'], data['colorGreen'], data['colorBlue']))    \n",
    "\n",
    "# Normalize colors to the range [0, 1]\n",
    "rgb = rgb / 255.0\n",
    "\n",
    "#creaet new point cloud in Open3D library\n",
    "pcd = o3d.geometry.PointCloud()\n",
    "pcd.points = o3d.utility.Vector3dVector(xyz)\n",
    "pcd.colors = o3d.utility.Vector3dVector(rgb)\n",
    "\n",
    "# print\n",
    "print(pcd)\n",
    "print(np.asarray(pcd.points))\n",
    "#o3d.visualization.draw_geometries([pcd])\n"
   ]
  },
  {
   "cell_type": "code",
   "execution_count": 2,
   "id": "fd71b356-1fe9-41c5-905a-bef64c1c6c3b",
   "metadata": {
    "tags": []
   },
   "outputs": [
    {
     "name": "stdout",
     "output_type": "stream",
     "text": [
      "PointCloud with 5511887 points.\n",
      "[[-0.85553586 -4.20415354  2.05446649]\n",
      " [-0.29681262  3.10660315  0.0195704 ]\n",
      " [ 9.64883232 -2.65889239  2.25809789]\n",
      " ...\n",
      " [-0.98308057 -0.11858951  2.5919838 ]\n",
      " [-1.0954423  -0.0985795   2.59227586]\n",
      " [-1.13184023 -0.21692982  2.5907495 ]]\n"
     ]
    }
   ],
   "source": [
    "#creaet new point cloud in Open3D library\n",
    "pcd = o3d.io.read_point_cloud('flattened_e57.pcd')\n",
    "\n",
    "# print\n",
    "print(pcd)\n",
    "print(np.asarray(pcd.points))"
   ]
  },
  {
   "cell_type": "code",
   "execution_count": null,
   "id": "63c2072f-2d21-4573-bb5d-ce47c4780233",
   "metadata": {
    "tags": []
   },
   "outputs": [],
   "source": [
    "# visualization\n",
    "o3d.visualization.draw_geometries([pcd])"
   ]
  },
  {
   "cell_type": "code",
   "execution_count": 3,
   "id": "100afbd5-54e9-40df-89eb-be6908d6e841",
   "metadata": {
    "tags": []
   },
   "outputs": [
    {
     "name": "stdout",
     "output_type": "stream",
     "text": [
      "Downsampling\n"
     ]
    }
   ],
   "source": [
    "#  Downscale voxel\n",
    "\n",
    "print(\"Downsampling\")\n",
    "downpcd = pcd.voxel_down_sample(voxel_size=.05)\n"
   ]
  },
  {
   "cell_type": "code",
   "execution_count": null,
   "id": "3ff0cbdd-5614-4bef-a928-d993cbbc81a0",
   "metadata": {
    "tags": []
   },
   "outputs": [],
   "source": [
    "# visualization\n",
    "o3d.visualization.draw_geometries([downpcd])"
   ]
  },
  {
   "cell_type": "code",
   "execution_count": 4,
   "id": "e7847010-222b-4a7f-b19c-e2be6952052f",
   "metadata": {
    "tags": []
   },
   "outputs": [
    {
     "name": "stdout",
     "output_type": "stream",
     "text": [
      "Best Attempt at creating normals\n"
     ]
    }
   ],
   "source": [
    "print(\"Best Attempt at creating normals\")\n",
    "downpcd.estimate_normals(search_param=o3d.geometry.KDTreeSearchParamHybrid(radius=0.1, max_nn=30))\n"
   ]
  },
  {
   "cell_type": "code",
   "execution_count": 5,
   "id": "ad420138-845d-49ae-b6a7-094cdfc08ec8",
   "metadata": {
    "tags": []
   },
   "outputs": [],
   "source": [
    "# visualization\n",
    "o3d.visualization.draw_geometries([downpcd], point_show_normal=True)"
   ]
  },
  {
   "cell_type": "code",
   "execution_count": 30,
   "id": "62cec910-e346-4417-a46f-ec2dd1220da4",
   "metadata": {
    "tags": []
   },
   "outputs": [
    {
     "name": "stdout",
     "output_type": "stream",
     "text": [
      "DBScan Clustering\n",
      "[Open3D DEBUG] Precompute neighbors.\n",
      "[Open3D DEBUG] Done Precompute neighbors.\n",
      "[Open3D DEBUG] Compute Clusters\n",
      "[Open3D DEBUG] Done Compute Clusters: 2698\n",
      "point cloud has 2698 clusters\n"
     ]
    }
   ],
   "source": [
    "print(\"DBScan Clustering\")\n",
    "\n",
    "with o3d.utility.VerbosityContextManager(\n",
    "        o3d.utility.VerbosityLevel.Debug) as cm:\n",
    "    labels = np.array(pcd.cluster_dbscan(eps=0.025, min_points=10, print_progress=True))\n",
    "    \n",
    "max_label = labels.max()\n",
    "\n",
    "print (f\"point cloud has {max_label + 1} clusters\")\n",
    "\n",
    "colors = plt.get_cmap(\"tab20\")(labels / (max_label if max_label > 0 else 1))\n",
    "\n",
    "colors[labels < 0] = 0\n",
    "pcd.colors = o3d.utility.Vector3dVector(colors[:, :3])\n"
   ]
  },
  {
   "cell_type": "code",
   "execution_count": 29,
   "id": "f25df0d6-53d6-45df-856d-a9815f7fb7fb",
   "metadata": {
    "tags": []
   },
   "outputs": [],
   "source": [
    "o3d.visualization.draw_geometries([pcd])"
   ]
  },
  {
   "cell_type": "code",
   "execution_count": 16,
   "id": "4f9e145d-3e03-4d32-976c-b830cb84edc8",
   "metadata": {
    "tags": []
   },
   "outputs": [
    {
     "name": "stdout",
     "output_type": "stream",
     "text": [
      "attempt segmentation\n",
      "Plane Equation: 0.00x + -0.00y + 1.00z + -0.00 = 0\n"
     ]
    }
   ],
   "source": [
    "print(\"attempt segmentation\")\n",
    "plane_model, inliers = pcd.segment_plane(distance_threshold=0.01,\n",
    "                                         ransac_n=3,\n",
    "                                         num_iterations=1000)\n",
    "\n",
    "[a,b,c,d] = plane_model\n",
    "print(f\"Plane Equation: {a:.2f}x + {b:.2f}y + {c:.2f}z + {d:.2f} = 0\")\n",
    "\n",
    "inlier_cloud = pcd.select_by_index(inliers)\n",
    "inlier_cloud.paint_uniform_color([1.0,0,0])\n",
    "outlier_cloud = pcd.select_by_index(inliers, invert=True)\n",
    "\n",
    "                                    \n"
   ]
  },
  {
   "cell_type": "code",
   "execution_count": 17,
   "id": "c3f9c525-b272-4767-b0d2-20a0d56d5c40",
   "metadata": {
    "tags": []
   },
   "outputs": [],
   "source": [
    "# visualization\n",
    "o3d.visualization.draw_geometries([inlier_cloud, outlier_cloud])"
   ]
  },
  {
   "cell_type": "code",
   "execution_count": null,
   "id": "35c09cc6-411a-4904-92bb-28f46a2fd498",
   "metadata": {},
   "outputs": [],
   "source": []
  }
 ],
 "metadata": {
  "kernelspec": {
   "display_name": "Python 3 (ipykernel)",
   "language": "python",
   "name": "python3"
  },
  "language_info": {
   "codemirror_mode": {
    "name": "ipython",
    "version": 3
   },
   "file_extension": ".py",
   "mimetype": "text/x-python",
   "name": "python",
   "nbconvert_exporter": "python",
   "pygments_lexer": "ipython3",
   "version": "3.10.10"
  }
 },
 "nbformat": 4,
 "nbformat_minor": 5
}
